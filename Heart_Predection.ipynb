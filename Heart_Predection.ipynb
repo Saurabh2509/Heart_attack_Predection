{
  "nbformat": 4,
  "nbformat_minor": 0,
  "metadata": {
    "colab": {
      "name": "Heart_Predection.ipynb",
      "provenance": [],
      "collapsed_sections": []
    },
    "kernelspec": {
      "name": "python3",
      "display_name": "Python 3"
    },
    "language_info": {
      "name": "python"
    },
    "widgets": {
      "application/vnd.jupyter.widget-state+json": {
        "9168c5a6afc54823bcd63446707b2167": {
          "model_module": "@jupyter-widgets/controls",
          "model_name": "DropdownModel",
          "state": {
            "_options_labels": [
              "age",
              "sex",
              "cp",
              "trtbps",
              "chol",
              "fbs",
              "restecg",
              "thalachh",
              "exng",
              "oldpeak",
              "slp",
              "caa",
              "thall",
              "output"
            ],
            "_view_name": "DropdownView",
            "style": "IPY_MODEL_fe5cd2794813469f987327daa96f6863",
            "_dom_classes": [],
            "description": "",
            "_model_name": "DropdownModel",
            "index": 0,
            "_view_module": "@jupyter-widgets/controls",
            "_model_module_version": "1.5.0",
            "_view_count": null,
            "disabled": false,
            "_view_module_version": "1.5.0",
            "description_tooltip": null,
            "_model_module": "@jupyter-widgets/controls",
            "layout": "IPY_MODEL_89731924555d4ce2925c83e462088398"
          }
        },
        "fe5cd2794813469f987327daa96f6863": {
          "model_module": "@jupyter-widgets/controls",
          "model_name": "DescriptionStyleModel",
          "state": {
            "_view_name": "StyleView",
            "_model_name": "DescriptionStyleModel",
            "description_width": "",
            "_view_module": "@jupyter-widgets/base",
            "_model_module_version": "1.5.0",
            "_view_count": null,
            "_view_module_version": "1.2.0",
            "_model_module": "@jupyter-widgets/controls"
          }
        },
        "89731924555d4ce2925c83e462088398": {
          "model_module": "@jupyter-widgets/base",
          "model_name": "LayoutModel",
          "state": {
            "_view_name": "LayoutView",
            "grid_template_rows": null,
            "right": null,
            "justify_content": null,
            "_view_module": "@jupyter-widgets/base",
            "overflow": null,
            "_model_module_version": "1.2.0",
            "_view_count": null,
            "flex_flow": null,
            "width": "20%",
            "min_width": null,
            "border": null,
            "align_items": null,
            "bottom": null,
            "_model_module": "@jupyter-widgets/base",
            "top": null,
            "grid_column": null,
            "overflow_y": null,
            "overflow_x": null,
            "grid_auto_flow": null,
            "grid_area": null,
            "grid_template_columns": null,
            "flex": null,
            "_model_name": "LayoutModel",
            "justify_items": null,
            "grid_row": null,
            "max_height": null,
            "align_content": null,
            "visibility": null,
            "align_self": null,
            "height": "40px",
            "min_height": null,
            "padding": null,
            "grid_auto_rows": null,
            "grid_gap": null,
            "max_width": null,
            "order": null,
            "_view_module_version": "1.2.0",
            "grid_template_areas": null,
            "object_position": null,
            "object_fit": null,
            "grid_auto_columns": null,
            "margin": null,
            "display": null,
            "left": null
          }
        },
        "fa47bc63dd9341b9933f8b8eb078d47c": {
          "model_module": "@jupyter-widgets/controls",
          "model_name": "DropdownModel",
          "state": {
            "_options_labels": [
              "age",
              "sex",
              "cp",
              "trtbps",
              "chol",
              "fbs",
              "restecg",
              "thalachh",
              "exng",
              "oldpeak",
              "slp",
              "caa",
              "thall",
              "output"
            ],
            "_view_name": "DropdownView",
            "style": "IPY_MODEL_ba82927bc95f47aaa9f988b4ce044e55",
            "_dom_classes": [],
            "description": "",
            "_model_name": "DropdownModel",
            "index": 0,
            "_view_module": "@jupyter-widgets/controls",
            "_model_module_version": "1.5.0",
            "_view_count": null,
            "disabled": false,
            "_view_module_version": "1.5.0",
            "description_tooltip": null,
            "_model_module": "@jupyter-widgets/controls",
            "layout": "IPY_MODEL_3867587ecf38410cb3d2425d02deabf9"
          }
        },
        "ba82927bc95f47aaa9f988b4ce044e55": {
          "model_module": "@jupyter-widgets/controls",
          "model_name": "DescriptionStyleModel",
          "state": {
            "_view_name": "StyleView",
            "_model_name": "DescriptionStyleModel",
            "description_width": "",
            "_view_module": "@jupyter-widgets/base",
            "_model_module_version": "1.5.0",
            "_view_count": null,
            "_view_module_version": "1.2.0",
            "_model_module": "@jupyter-widgets/controls"
          }
        },
        "3867587ecf38410cb3d2425d02deabf9": {
          "model_module": "@jupyter-widgets/base",
          "model_name": "LayoutModel",
          "state": {
            "_view_name": "LayoutView",
            "grid_template_rows": null,
            "right": null,
            "justify_content": null,
            "_view_module": "@jupyter-widgets/base",
            "overflow": null,
            "_model_module_version": "1.2.0",
            "_view_count": null,
            "flex_flow": null,
            "width": "20%",
            "min_width": null,
            "border": null,
            "align_items": null,
            "bottom": null,
            "_model_module": "@jupyter-widgets/base",
            "top": null,
            "grid_column": null,
            "overflow_y": null,
            "overflow_x": null,
            "grid_auto_flow": null,
            "grid_area": null,
            "grid_template_columns": null,
            "flex": null,
            "_model_name": "LayoutModel",
            "justify_items": null,
            "grid_row": null,
            "max_height": null,
            "align_content": null,
            "visibility": null,
            "align_self": null,
            "height": "40px",
            "min_height": null,
            "padding": null,
            "grid_auto_rows": null,
            "grid_gap": null,
            "max_width": null,
            "order": null,
            "_view_module_version": "1.2.0",
            "grid_template_areas": null,
            "object_position": null,
            "object_fit": null,
            "grid_auto_columns": null,
            "margin": null,
            "display": null,
            "left": null
          }
        }
      }
    }
  },
  "cells": [
    {
      "cell_type": "markdown",
      "metadata": {
        "id": "YKel6wUeHHOs"
      },
      "source": [
        "# ***Heart_Attack_Prediction & Analysis***\n",
        "\n",
        "\n",
        "0-low change of heart_attack\n",
        "\n",
        "1-high chance of heart_attack"
      ]
    },
    {
      "cell_type": "code",
      "metadata": {
        "id": "EcwQLYd3pdQf"
      },
      "source": [
        "import pandas as pd\n",
        "import numpy as np\n",
        "import matplotlib.pyplot as plt\n",
        "import seaborn as sns"
      ],
      "execution_count": null,
      "outputs": []
    },
    {
      "cell_type": "code",
      "metadata": {
        "id": "iV_O6akZ-1Fp"
      },
      "source": [
        "import warnings\n",
        "warnings.filterwarnings('ignore')"
      ],
      "execution_count": null,
      "outputs": []
    },
    {
      "cell_type": "code",
      "metadata": {
        "id": "QZGH3nKtqkcR"
      },
      "source": [
        "df=pd.read_csv(\"/content/heart.csv\")"
      ],
      "execution_count": null,
      "outputs": []
    },
    {
      "cell_type": "markdown",
      "metadata": {
        "id": "U11DbGLA6XfG"
      },
      "source": [
        "# ***COLUMN_DETAILS***"
      ]
    },
    {
      "cell_type": "markdown",
      "metadata": {
        "id": "-DIEGX9QDaUH"
      },
      "source": [
        "![image.png](data:image/png;base64,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)"
      ]
    },
    {
      "cell_type": "code",
      "metadata": {
        "colab": {
          "base_uri": "https://localhost:8080/",
          "height": 204
        },
        "id": "bZl-QlEf64Ai",
        "outputId": "daa62e48-120e-45a5-825c-fc750675f4ba"
      },
      "source": [
        "df.head()"
      ],
      "execution_count": null,
      "outputs": [
        {
          "output_type": "execute_result",
          "data": {
            "text/html": [
              "<div>\n",
              "<style scoped>\n",
              "    .dataframe tbody tr th:only-of-type {\n",
              "        vertical-align: middle;\n",
              "    }\n",
              "\n",
              "    .dataframe tbody tr th {\n",
              "        vertical-align: top;\n",
              "    }\n",
              "\n",
              "    .dataframe thead th {\n",
              "        text-align: right;\n",
              "    }\n",
              "</style>\n",
              "<table border=\"1\" class=\"dataframe\">\n",
              "  <thead>\n",
              "    <tr style=\"text-align: right;\">\n",
              "      <th></th>\n",
              "      <th>age</th>\n",
              "      <th>sex</th>\n",
              "      <th>cp</th>\n",
              "      <th>trtbps</th>\n",
              "      <th>chol</th>\n",
              "      <th>fbs</th>\n",
              "      <th>restecg</th>\n",
              "      <th>thalachh</th>\n",
              "      <th>exng</th>\n",
              "      <th>oldpeak</th>\n",
              "      <th>slp</th>\n",
              "      <th>caa</th>\n",
              "      <th>thall</th>\n",
              "      <th>output</th>\n",
              "    </tr>\n",
              "  </thead>\n",
              "  <tbody>\n",
              "    <tr>\n",
              "      <th>0</th>\n",
              "      <td>63</td>\n",
              "      <td>1</td>\n",
              "      <td>3</td>\n",
              "      <td>145</td>\n",
              "      <td>233</td>\n",
              "      <td>1</td>\n",
              "      <td>0</td>\n",
              "      <td>150</td>\n",
              "      <td>0</td>\n",
              "      <td>2.3</td>\n",
              "      <td>0</td>\n",
              "      <td>0</td>\n",
              "      <td>1</td>\n",
              "      <td>1</td>\n",
              "    </tr>\n",
              "    <tr>\n",
              "      <th>1</th>\n",
              "      <td>37</td>\n",
              "      <td>1</td>\n",
              "      <td>2</td>\n",
              "      <td>130</td>\n",
              "      <td>250</td>\n",
              "      <td>0</td>\n",
              "      <td>1</td>\n",
              "      <td>187</td>\n",
              "      <td>0</td>\n",
              "      <td>3.5</td>\n",
              "      <td>0</td>\n",
              "      <td>0</td>\n",
              "      <td>2</td>\n",
              "      <td>1</td>\n",
              "    </tr>\n",
              "    <tr>\n",
              "      <th>2</th>\n",
              "      <td>41</td>\n",
              "      <td>0</td>\n",
              "      <td>1</td>\n",
              "      <td>130</td>\n",
              "      <td>204</td>\n",
              "      <td>0</td>\n",
              "      <td>0</td>\n",
              "      <td>172</td>\n",
              "      <td>0</td>\n",
              "      <td>1.4</td>\n",
              "      <td>2</td>\n",
              "      <td>0</td>\n",
              "      <td>2</td>\n",
              "      <td>1</td>\n",
              "    </tr>\n",
              "    <tr>\n",
              "      <th>3</th>\n",
              "      <td>56</td>\n",
              "      <td>1</td>\n",
              "      <td>1</td>\n",
              "      <td>120</td>\n",
              "      <td>236</td>\n",
              "      <td>0</td>\n",
              "      <td>1</td>\n",
              "      <td>178</td>\n",
              "      <td>0</td>\n",
              "      <td>0.8</td>\n",
              "      <td>2</td>\n",
              "      <td>0</td>\n",
              "      <td>2</td>\n",
              "      <td>1</td>\n",
              "    </tr>\n",
              "    <tr>\n",
              "      <th>4</th>\n",
              "      <td>57</td>\n",
              "      <td>0</td>\n",
              "      <td>0</td>\n",
              "      <td>120</td>\n",
              "      <td>354</td>\n",
              "      <td>0</td>\n",
              "      <td>1</td>\n",
              "      <td>163</td>\n",
              "      <td>1</td>\n",
              "      <td>0.6</td>\n",
              "      <td>2</td>\n",
              "      <td>0</td>\n",
              "      <td>2</td>\n",
              "      <td>1</td>\n",
              "    </tr>\n",
              "  </tbody>\n",
              "</table>\n",
              "</div>"
            ],
            "text/plain": [
              "   age  sex  cp  trtbps  chol  fbs  ...  exng  oldpeak  slp  caa  thall  output\n",
              "0   63    1   3     145   233    1  ...     0      2.3    0    0      1       1\n",
              "1   37    1   2     130   250    0  ...     0      3.5    0    0      2       1\n",
              "2   41    0   1     130   204    0  ...     0      1.4    2    0      2       1\n",
              "3   56    1   1     120   236    0  ...     0      0.8    2    0      2       1\n",
              "4   57    0   0     120   354    0  ...     1      0.6    2    0      2       1\n",
              "\n",
              "[5 rows x 14 columns]"
            ]
          },
          "metadata": {
            "tags": []
          },
          "execution_count": 4
        }
      ]
    },
    {
      "cell_type": "code",
      "metadata": {
        "colab": {
          "base_uri": "https://localhost:8080/"
        },
        "id": "Fcno7zPd66vg",
        "outputId": "3fcb9195-97b7-4dd7-90fb-55db01bb958f"
      },
      "source": [
        "df.columns"
      ],
      "execution_count": null,
      "outputs": [
        {
          "output_type": "execute_result",
          "data": {
            "text/plain": [
              "Index(['age', 'sex', 'cp', 'trtbps', 'chol', 'fbs', 'restecg', 'thalachh',\n",
              "       'exng', 'oldpeak', 'slp', 'caa', 'thall', 'output'],\n",
              "      dtype='object')"
            ]
          },
          "metadata": {
            "tags": []
          },
          "execution_count": 5
        }
      ]
    },
    {
      "cell_type": "code",
      "metadata": {
        "colab": {
          "base_uri": "https://localhost:8080/"
        },
        "id": "TItdOQUi7Zbl",
        "outputId": "0c2618d7-09fb-4b10-a636-2ec9dcefdb6e"
      },
      "source": [
        "df.shape"
      ],
      "execution_count": null,
      "outputs": [
        {
          "output_type": "execute_result",
          "data": {
            "text/plain": [
              "(303, 14)"
            ]
          },
          "metadata": {
            "tags": []
          },
          "execution_count": 6
        }
      ]
    },
    {
      "cell_type": "code",
      "metadata": {
        "colab": {
          "base_uri": "https://localhost:8080/"
        },
        "id": "JtAiELzs8Tw6",
        "outputId": "7b64ef07-cd8b-45ed-846d-0b348a97ff00"
      },
      "source": [
        "df.isnull().count()"
      ],
      "execution_count": null,
      "outputs": [
        {
          "output_type": "execute_result",
          "data": {
            "text/plain": [
              "age         303\n",
              "sex         303\n",
              "cp          303\n",
              "trtbps      303\n",
              "chol        303\n",
              "fbs         303\n",
              "restecg     303\n",
              "thalachh    303\n",
              "exng        303\n",
              "oldpeak     303\n",
              "slp         303\n",
              "caa         303\n",
              "thall       303\n",
              "output      303\n",
              "dtype: int64"
            ]
          },
          "metadata": {
            "tags": []
          },
          "execution_count": 7
        }
      ]
    },
    {
      "cell_type": "code",
      "metadata": {
        "colab": {
          "base_uri": "https://localhost:8080/"
        },
        "id": "jVGSuz-FA684",
        "outputId": "78f767f4-316b-40d7-ef6c-1f169c6cef9a"
      },
      "source": [
        "df.info()"
      ],
      "execution_count": null,
      "outputs": [
        {
          "output_type": "stream",
          "text": [
            "<class 'pandas.core.frame.DataFrame'>\n",
            "RangeIndex: 303 entries, 0 to 302\n",
            "Data columns (total 14 columns):\n",
            " #   Column    Non-Null Count  Dtype  \n",
            "---  ------    --------------  -----  \n",
            " 0   age       303 non-null    int64  \n",
            " 1   sex       303 non-null    int64  \n",
            " 2   cp        303 non-null    int64  \n",
            " 3   trtbps    303 non-null    int64  \n",
            " 4   chol      303 non-null    int64  \n",
            " 5   fbs       303 non-null    int64  \n",
            " 6   restecg   303 non-null    int64  \n",
            " 7   thalachh  303 non-null    int64  \n",
            " 8   exng      303 non-null    int64  \n",
            " 9   oldpeak   303 non-null    float64\n",
            " 10  slp       303 non-null    int64  \n",
            " 11  caa       303 non-null    int64  \n",
            " 12  thall     303 non-null    int64  \n",
            " 13  output    303 non-null    int64  \n",
            "dtypes: float64(1), int64(13)\n",
            "memory usage: 33.3 KB\n"
          ],
          "name": "stdout"
        }
      ]
    },
    {
      "cell_type": "code",
      "metadata": {
        "colab": {
          "base_uri": "https://localhost:8080/",
          "height": 317
        },
        "id": "5QQSqx8ZCf19",
        "outputId": "ceb6d118-3f64-4068-bd8b-ff395dc0c9f4"
      },
      "source": [
        "df.describe()"
      ],
      "execution_count": null,
      "outputs": [
        {
          "output_type": "execute_result",
          "data": {
            "text/html": [
              "<div>\n",
              "<style scoped>\n",
              "    .dataframe tbody tr th:only-of-type {\n",
              "        vertical-align: middle;\n",
              "    }\n",
              "\n",
              "    .dataframe tbody tr th {\n",
              "        vertical-align: top;\n",
              "    }\n",
              "\n",
              "    .dataframe thead th {\n",
              "        text-align: right;\n",
              "    }\n",
              "</style>\n",
              "<table border=\"1\" class=\"dataframe\">\n",
              "  <thead>\n",
              "    <tr style=\"text-align: right;\">\n",
              "      <th></th>\n",
              "      <th>age</th>\n",
              "      <th>sex</th>\n",
              "      <th>cp</th>\n",
              "      <th>trtbps</th>\n",
              "      <th>chol</th>\n",
              "      <th>fbs</th>\n",
              "      <th>restecg</th>\n",
              "      <th>thalachh</th>\n",
              "      <th>exng</th>\n",
              "      <th>oldpeak</th>\n",
              "      <th>slp</th>\n",
              "      <th>caa</th>\n",
              "      <th>thall</th>\n",
              "      <th>output</th>\n",
              "    </tr>\n",
              "  </thead>\n",
              "  <tbody>\n",
              "    <tr>\n",
              "      <th>count</th>\n",
              "      <td>303.000000</td>\n",
              "      <td>303.000000</td>\n",
              "      <td>303.000000</td>\n",
              "      <td>303.000000</td>\n",
              "      <td>303.000000</td>\n",
              "      <td>303.000000</td>\n",
              "      <td>303.000000</td>\n",
              "      <td>303.000000</td>\n",
              "      <td>303.000000</td>\n",
              "      <td>303.000000</td>\n",
              "      <td>303.000000</td>\n",
              "      <td>303.000000</td>\n",
              "      <td>303.000000</td>\n",
              "      <td>303.000000</td>\n",
              "    </tr>\n",
              "    <tr>\n",
              "      <th>mean</th>\n",
              "      <td>54.366337</td>\n",
              "      <td>0.683168</td>\n",
              "      <td>0.966997</td>\n",
              "      <td>131.623762</td>\n",
              "      <td>246.264026</td>\n",
              "      <td>0.148515</td>\n",
              "      <td>0.528053</td>\n",
              "      <td>149.646865</td>\n",
              "      <td>0.326733</td>\n",
              "      <td>1.039604</td>\n",
              "      <td>1.399340</td>\n",
              "      <td>0.729373</td>\n",
              "      <td>2.313531</td>\n",
              "      <td>0.544554</td>\n",
              "    </tr>\n",
              "    <tr>\n",
              "      <th>std</th>\n",
              "      <td>9.082101</td>\n",
              "      <td>0.466011</td>\n",
              "      <td>1.032052</td>\n",
              "      <td>17.538143</td>\n",
              "      <td>51.830751</td>\n",
              "      <td>0.356198</td>\n",
              "      <td>0.525860</td>\n",
              "      <td>22.905161</td>\n",
              "      <td>0.469794</td>\n",
              "      <td>1.161075</td>\n",
              "      <td>0.616226</td>\n",
              "      <td>1.022606</td>\n",
              "      <td>0.612277</td>\n",
              "      <td>0.498835</td>\n",
              "    </tr>\n",
              "    <tr>\n",
              "      <th>min</th>\n",
              "      <td>29.000000</td>\n",
              "      <td>0.000000</td>\n",
              "      <td>0.000000</td>\n",
              "      <td>94.000000</td>\n",
              "      <td>126.000000</td>\n",
              "      <td>0.000000</td>\n",
              "      <td>0.000000</td>\n",
              "      <td>71.000000</td>\n",
              "      <td>0.000000</td>\n",
              "      <td>0.000000</td>\n",
              "      <td>0.000000</td>\n",
              "      <td>0.000000</td>\n",
              "      <td>0.000000</td>\n",
              "      <td>0.000000</td>\n",
              "    </tr>\n",
              "    <tr>\n",
              "      <th>25%</th>\n",
              "      <td>47.500000</td>\n",
              "      <td>0.000000</td>\n",
              "      <td>0.000000</td>\n",
              "      <td>120.000000</td>\n",
              "      <td>211.000000</td>\n",
              "      <td>0.000000</td>\n",
              "      <td>0.000000</td>\n",
              "      <td>133.500000</td>\n",
              "      <td>0.000000</td>\n",
              "      <td>0.000000</td>\n",
              "      <td>1.000000</td>\n",
              "      <td>0.000000</td>\n",
              "      <td>2.000000</td>\n",
              "      <td>0.000000</td>\n",
              "    </tr>\n",
              "    <tr>\n",
              "      <th>50%</th>\n",
              "      <td>55.000000</td>\n",
              "      <td>1.000000</td>\n",
              "      <td>1.000000</td>\n",
              "      <td>130.000000</td>\n",
              "      <td>240.000000</td>\n",
              "      <td>0.000000</td>\n",
              "      <td>1.000000</td>\n",
              "      <td>153.000000</td>\n",
              "      <td>0.000000</td>\n",
              "      <td>0.800000</td>\n",
              "      <td>1.000000</td>\n",
              "      <td>0.000000</td>\n",
              "      <td>2.000000</td>\n",
              "      <td>1.000000</td>\n",
              "    </tr>\n",
              "    <tr>\n",
              "      <th>75%</th>\n",
              "      <td>61.000000</td>\n",
              "      <td>1.000000</td>\n",
              "      <td>2.000000</td>\n",
              "      <td>140.000000</td>\n",
              "      <td>274.500000</td>\n",
              "      <td>0.000000</td>\n",
              "      <td>1.000000</td>\n",
              "      <td>166.000000</td>\n",
              "      <td>1.000000</td>\n",
              "      <td>1.600000</td>\n",
              "      <td>2.000000</td>\n",
              "      <td>1.000000</td>\n",
              "      <td>3.000000</td>\n",
              "      <td>1.000000</td>\n",
              "    </tr>\n",
              "    <tr>\n",
              "      <th>max</th>\n",
              "      <td>77.000000</td>\n",
              "      <td>1.000000</td>\n",
              "      <td>3.000000</td>\n",
              "      <td>200.000000</td>\n",
              "      <td>564.000000</td>\n",
              "      <td>1.000000</td>\n",
              "      <td>2.000000</td>\n",
              "      <td>202.000000</td>\n",
              "      <td>1.000000</td>\n",
              "      <td>6.200000</td>\n",
              "      <td>2.000000</td>\n",
              "      <td>4.000000</td>\n",
              "      <td>3.000000</td>\n",
              "      <td>1.000000</td>\n",
              "    </tr>\n",
              "  </tbody>\n",
              "</table>\n",
              "</div>"
            ],
            "text/plain": [
              "              age         sex          cp  ...         caa       thall      output\n",
              "count  303.000000  303.000000  303.000000  ...  303.000000  303.000000  303.000000\n",
              "mean    54.366337    0.683168    0.966997  ...    0.729373    2.313531    0.544554\n",
              "std      9.082101    0.466011    1.032052  ...    1.022606    0.612277    0.498835\n",
              "min     29.000000    0.000000    0.000000  ...    0.000000    0.000000    0.000000\n",
              "25%     47.500000    0.000000    0.000000  ...    0.000000    2.000000    0.000000\n",
              "50%     55.000000    1.000000    1.000000  ...    0.000000    2.000000    1.000000\n",
              "75%     61.000000    1.000000    2.000000  ...    1.000000    3.000000    1.000000\n",
              "max     77.000000    1.000000    3.000000  ...    4.000000    3.000000    1.000000\n",
              "\n",
              "[8 rows x 14 columns]"
            ]
          },
          "metadata": {
            "tags": []
          },
          "execution_count": 9
        }
      ]
    },
    {
      "cell_type": "code",
      "metadata": {
        "colab": {
          "base_uri": "https://localhost:8080/"
        },
        "id": "-vbVBoxSCjku",
        "outputId": "426e9312-0e08-47cd-b26c-0aff0b864318"
      },
      "source": [
        "df.info()"
      ],
      "execution_count": null,
      "outputs": [
        {
          "output_type": "stream",
          "text": [
            "<class 'pandas.core.frame.DataFrame'>\n",
            "RangeIndex: 303 entries, 0 to 302\n",
            "Data columns (total 14 columns):\n",
            " #   Column    Non-Null Count  Dtype  \n",
            "---  ------    --------------  -----  \n",
            " 0   age       303 non-null    int64  \n",
            " 1   sex       303 non-null    int64  \n",
            " 2   cp        303 non-null    int64  \n",
            " 3   trtbps    303 non-null    int64  \n",
            " 4   chol      303 non-null    int64  \n",
            " 5   fbs       303 non-null    int64  \n",
            " 6   restecg   303 non-null    int64  \n",
            " 7   thalachh  303 non-null    int64  \n",
            " 8   exng      303 non-null    int64  \n",
            " 9   oldpeak   303 non-null    float64\n",
            " 10  slp       303 non-null    int64  \n",
            " 11  caa       303 non-null    int64  \n",
            " 12  thall     303 non-null    int64  \n",
            " 13  output    303 non-null    int64  \n",
            "dtypes: float64(1), int64(13)\n",
            "memory usage: 33.3 KB\n"
          ],
          "name": "stdout"
        }
      ]
    },
    {
      "cell_type": "code",
      "metadata": {
        "colab": {
          "base_uri": "https://localhost:8080/",
          "height": 483
        },
        "id": "vF3NSlMSOELh",
        "outputId": "d1f64f23-4076-4433-8ab1-3748c5af39d7"
      },
      "source": [
        "df.corr(method='pearson',min_periods=1)"
      ],
      "execution_count": null,
      "outputs": [
        {
          "output_type": "execute_result",
          "data": {
            "text/html": [
              "<div>\n",
              "<style scoped>\n",
              "    .dataframe tbody tr th:only-of-type {\n",
              "        vertical-align: middle;\n",
              "    }\n",
              "\n",
              "    .dataframe tbody tr th {\n",
              "        vertical-align: top;\n",
              "    }\n",
              "\n",
              "    .dataframe thead th {\n",
              "        text-align: right;\n",
              "    }\n",
              "</style>\n",
              "<table border=\"1\" class=\"dataframe\">\n",
              "  <thead>\n",
              "    <tr style=\"text-align: right;\">\n",
              "      <th></th>\n",
              "      <th>age</th>\n",
              "      <th>sex</th>\n",
              "      <th>cp</th>\n",
              "      <th>trtbps</th>\n",
              "      <th>chol</th>\n",
              "      <th>fbs</th>\n",
              "      <th>restecg</th>\n",
              "      <th>thalachh</th>\n",
              "      <th>exng</th>\n",
              "      <th>oldpeak</th>\n",
              "      <th>slp</th>\n",
              "      <th>caa</th>\n",
              "      <th>thall</th>\n",
              "      <th>output</th>\n",
              "    </tr>\n",
              "  </thead>\n",
              "  <tbody>\n",
              "    <tr>\n",
              "      <th>age</th>\n",
              "      <td>1.000000</td>\n",
              "      <td>-0.098447</td>\n",
              "      <td>-0.068653</td>\n",
              "      <td>0.279351</td>\n",
              "      <td>0.213678</td>\n",
              "      <td>0.121308</td>\n",
              "      <td>-0.116211</td>\n",
              "      <td>-0.398522</td>\n",
              "      <td>0.096801</td>\n",
              "      <td>0.210013</td>\n",
              "      <td>-0.168814</td>\n",
              "      <td>0.276326</td>\n",
              "      <td>0.068001</td>\n",
              "      <td>-0.225439</td>\n",
              "    </tr>\n",
              "    <tr>\n",
              "      <th>sex</th>\n",
              "      <td>-0.098447</td>\n",
              "      <td>1.000000</td>\n",
              "      <td>-0.049353</td>\n",
              "      <td>-0.056769</td>\n",
              "      <td>-0.197912</td>\n",
              "      <td>0.045032</td>\n",
              "      <td>-0.058196</td>\n",
              "      <td>-0.044020</td>\n",
              "      <td>0.141664</td>\n",
              "      <td>0.096093</td>\n",
              "      <td>-0.030711</td>\n",
              "      <td>0.118261</td>\n",
              "      <td>0.210041</td>\n",
              "      <td>-0.280937</td>\n",
              "    </tr>\n",
              "    <tr>\n",
              "      <th>cp</th>\n",
              "      <td>-0.068653</td>\n",
              "      <td>-0.049353</td>\n",
              "      <td>1.000000</td>\n",
              "      <td>0.047608</td>\n",
              "      <td>-0.076904</td>\n",
              "      <td>0.094444</td>\n",
              "      <td>0.044421</td>\n",
              "      <td>0.295762</td>\n",
              "      <td>-0.394280</td>\n",
              "      <td>-0.149230</td>\n",
              "      <td>0.119717</td>\n",
              "      <td>-0.181053</td>\n",
              "      <td>-0.161736</td>\n",
              "      <td>0.433798</td>\n",
              "    </tr>\n",
              "    <tr>\n",
              "      <th>trtbps</th>\n",
              "      <td>0.279351</td>\n",
              "      <td>-0.056769</td>\n",
              "      <td>0.047608</td>\n",
              "      <td>1.000000</td>\n",
              "      <td>0.123174</td>\n",
              "      <td>0.177531</td>\n",
              "      <td>-0.114103</td>\n",
              "      <td>-0.046698</td>\n",
              "      <td>0.067616</td>\n",
              "      <td>0.193216</td>\n",
              "      <td>-0.121475</td>\n",
              "      <td>0.101389</td>\n",
              "      <td>0.062210</td>\n",
              "      <td>-0.144931</td>\n",
              "    </tr>\n",
              "    <tr>\n",
              "      <th>chol</th>\n",
              "      <td>0.213678</td>\n",
              "      <td>-0.197912</td>\n",
              "      <td>-0.076904</td>\n",
              "      <td>0.123174</td>\n",
              "      <td>1.000000</td>\n",
              "      <td>0.013294</td>\n",
              "      <td>-0.151040</td>\n",
              "      <td>-0.009940</td>\n",
              "      <td>0.067023</td>\n",
              "      <td>0.053952</td>\n",
              "      <td>-0.004038</td>\n",
              "      <td>0.070511</td>\n",
              "      <td>0.098803</td>\n",
              "      <td>-0.085239</td>\n",
              "    </tr>\n",
              "    <tr>\n",
              "      <th>fbs</th>\n",
              "      <td>0.121308</td>\n",
              "      <td>0.045032</td>\n",
              "      <td>0.094444</td>\n",
              "      <td>0.177531</td>\n",
              "      <td>0.013294</td>\n",
              "      <td>1.000000</td>\n",
              "      <td>-0.084189</td>\n",
              "      <td>-0.008567</td>\n",
              "      <td>0.025665</td>\n",
              "      <td>0.005747</td>\n",
              "      <td>-0.059894</td>\n",
              "      <td>0.137979</td>\n",
              "      <td>-0.032019</td>\n",
              "      <td>-0.028046</td>\n",
              "    </tr>\n",
              "    <tr>\n",
              "      <th>restecg</th>\n",
              "      <td>-0.116211</td>\n",
              "      <td>-0.058196</td>\n",
              "      <td>0.044421</td>\n",
              "      <td>-0.114103</td>\n",
              "      <td>-0.151040</td>\n",
              "      <td>-0.084189</td>\n",
              "      <td>1.000000</td>\n",
              "      <td>0.044123</td>\n",
              "      <td>-0.070733</td>\n",
              "      <td>-0.058770</td>\n",
              "      <td>0.093045</td>\n",
              "      <td>-0.072042</td>\n",
              "      <td>-0.011981</td>\n",
              "      <td>0.137230</td>\n",
              "    </tr>\n",
              "    <tr>\n",
              "      <th>thalachh</th>\n",
              "      <td>-0.398522</td>\n",
              "      <td>-0.044020</td>\n",
              "      <td>0.295762</td>\n",
              "      <td>-0.046698</td>\n",
              "      <td>-0.009940</td>\n",
              "      <td>-0.008567</td>\n",
              "      <td>0.044123</td>\n",
              "      <td>1.000000</td>\n",
              "      <td>-0.378812</td>\n",
              "      <td>-0.344187</td>\n",
              "      <td>0.386784</td>\n",
              "      <td>-0.213177</td>\n",
              "      <td>-0.096439</td>\n",
              "      <td>0.421741</td>\n",
              "    </tr>\n",
              "    <tr>\n",
              "      <th>exng</th>\n",
              "      <td>0.096801</td>\n",
              "      <td>0.141664</td>\n",
              "      <td>-0.394280</td>\n",
              "      <td>0.067616</td>\n",
              "      <td>0.067023</td>\n",
              "      <td>0.025665</td>\n",
              "      <td>-0.070733</td>\n",
              "      <td>-0.378812</td>\n",
              "      <td>1.000000</td>\n",
              "      <td>0.288223</td>\n",
              "      <td>-0.257748</td>\n",
              "      <td>0.115739</td>\n",
              "      <td>0.206754</td>\n",
              "      <td>-0.436757</td>\n",
              "    </tr>\n",
              "    <tr>\n",
              "      <th>oldpeak</th>\n",
              "      <td>0.210013</td>\n",
              "      <td>0.096093</td>\n",
              "      <td>-0.149230</td>\n",
              "      <td>0.193216</td>\n",
              "      <td>0.053952</td>\n",
              "      <td>0.005747</td>\n",
              "      <td>-0.058770</td>\n",
              "      <td>-0.344187</td>\n",
              "      <td>0.288223</td>\n",
              "      <td>1.000000</td>\n",
              "      <td>-0.577537</td>\n",
              "      <td>0.222682</td>\n",
              "      <td>0.210244</td>\n",
              "      <td>-0.430696</td>\n",
              "    </tr>\n",
              "    <tr>\n",
              "      <th>slp</th>\n",
              "      <td>-0.168814</td>\n",
              "      <td>-0.030711</td>\n",
              "      <td>0.119717</td>\n",
              "      <td>-0.121475</td>\n",
              "      <td>-0.004038</td>\n",
              "      <td>-0.059894</td>\n",
              "      <td>0.093045</td>\n",
              "      <td>0.386784</td>\n",
              "      <td>-0.257748</td>\n",
              "      <td>-0.577537</td>\n",
              "      <td>1.000000</td>\n",
              "      <td>-0.080155</td>\n",
              "      <td>-0.104764</td>\n",
              "      <td>0.345877</td>\n",
              "    </tr>\n",
              "    <tr>\n",
              "      <th>caa</th>\n",
              "      <td>0.276326</td>\n",
              "      <td>0.118261</td>\n",
              "      <td>-0.181053</td>\n",
              "      <td>0.101389</td>\n",
              "      <td>0.070511</td>\n",
              "      <td>0.137979</td>\n",
              "      <td>-0.072042</td>\n",
              "      <td>-0.213177</td>\n",
              "      <td>0.115739</td>\n",
              "      <td>0.222682</td>\n",
              "      <td>-0.080155</td>\n",
              "      <td>1.000000</td>\n",
              "      <td>0.151832</td>\n",
              "      <td>-0.391724</td>\n",
              "    </tr>\n",
              "    <tr>\n",
              "      <th>thall</th>\n",
              "      <td>0.068001</td>\n",
              "      <td>0.210041</td>\n",
              "      <td>-0.161736</td>\n",
              "      <td>0.062210</td>\n",
              "      <td>0.098803</td>\n",
              "      <td>-0.032019</td>\n",
              "      <td>-0.011981</td>\n",
              "      <td>-0.096439</td>\n",
              "      <td>0.206754</td>\n",
              "      <td>0.210244</td>\n",
              "      <td>-0.104764</td>\n",
              "      <td>0.151832</td>\n",
              "      <td>1.000000</td>\n",
              "      <td>-0.344029</td>\n",
              "    </tr>\n",
              "    <tr>\n",
              "      <th>output</th>\n",
              "      <td>-0.225439</td>\n",
              "      <td>-0.280937</td>\n",
              "      <td>0.433798</td>\n",
              "      <td>-0.144931</td>\n",
              "      <td>-0.085239</td>\n",
              "      <td>-0.028046</td>\n",
              "      <td>0.137230</td>\n",
              "      <td>0.421741</td>\n",
              "      <td>-0.436757</td>\n",
              "      <td>-0.430696</td>\n",
              "      <td>0.345877</td>\n",
              "      <td>-0.391724</td>\n",
              "      <td>-0.344029</td>\n",
              "      <td>1.000000</td>\n",
              "    </tr>\n",
              "  </tbody>\n",
              "</table>\n",
              "</div>"
            ],
            "text/plain": [
              "               age       sex        cp  ...       caa     thall    output\n",
              "age       1.000000 -0.098447 -0.068653  ...  0.276326  0.068001 -0.225439\n",
              "sex      -0.098447  1.000000 -0.049353  ...  0.118261  0.210041 -0.280937\n",
              "cp       -0.068653 -0.049353  1.000000  ... -0.181053 -0.161736  0.433798\n",
              "trtbps    0.279351 -0.056769  0.047608  ...  0.101389  0.062210 -0.144931\n",
              "chol      0.213678 -0.197912 -0.076904  ...  0.070511  0.098803 -0.085239\n",
              "fbs       0.121308  0.045032  0.094444  ...  0.137979 -0.032019 -0.028046\n",
              "restecg  -0.116211 -0.058196  0.044421  ... -0.072042 -0.011981  0.137230\n",
              "thalachh -0.398522 -0.044020  0.295762  ... -0.213177 -0.096439  0.421741\n",
              "exng      0.096801  0.141664 -0.394280  ...  0.115739  0.206754 -0.436757\n",
              "oldpeak   0.210013  0.096093 -0.149230  ...  0.222682  0.210244 -0.430696\n",
              "slp      -0.168814 -0.030711  0.119717  ... -0.080155 -0.104764  0.345877\n",
              "caa       0.276326  0.118261 -0.181053  ...  1.000000  0.151832 -0.391724\n",
              "thall     0.068001  0.210041 -0.161736  ...  0.151832  1.000000 -0.344029\n",
              "output   -0.225439 -0.280937  0.433798  ... -0.391724 -0.344029  1.000000\n",
              "\n",
              "[14 rows x 14 columns]"
            ]
          },
          "metadata": {
            "tags": []
          },
          "execution_count": 11
        }
      ]
    },
    {
      "cell_type": "code",
      "metadata": {
        "colab": {
          "base_uri": "https://localhost:8080/",
          "height": 592
        },
        "id": "-Bgalum6O10S",
        "outputId": "cf98d50b-a7ad-4eba-bff1-72931946a737"
      },
      "source": [
        "plt.figure(figsize=(18,9))\n",
        "sns.heatmap(df.corr(),cbar=True,square=True,fmt='.2f',annot=True,annot_kws={'size':10},cmap='magma')"
      ],
      "execution_count": null,
      "outputs": [
        {
          "output_type": "execute_result",
          "data": {
            "text/plain": [
              "<matplotlib.axes._subplots.AxesSubplot at 0x7f94484ad850>"
            ]
          },
          "metadata": {
            "tags": []
          },
          "execution_count": 12
        },
        {
          "output_type": "display_data",
          "data": {
            "image/png": "[encoded data removed]",
            "text/plain": [
              "<Figure size 1296x648 with 2 Axes>"
            ]
          },
          "metadata": {
            "tags": [],
            "needs_background": "light"
          }
        }
      ]
    },
    {
      "cell_type": "code",
      "metadata": {
        "colab": {
          "base_uri": "https://localhost:8080/",
          "height": 204
        },
        "id": "1vbNsRjYQChT",
        "outputId": "18d245a2-827f-471c-8568-910b07f8c623"
      },
      "source": [
        "df.head()"
      ],
      "execution_count": null,
      "outputs": [
        {
          "output_type": "execute_result",
          "data": {
            "text/html": [
              "<div>\n",
              "<style scoped>\n",
              "    .dataframe tbody tr th:only-of-type {\n",
              "        vertical-align: middle;\n",
              "    }\n",
              "\n",
              "    .dataframe tbody tr th {\n",
              "        vertical-align: top;\n",
              "    }\n",
              "\n",
              "    .dataframe thead th {\n",
              "        text-align: right;\n",
              "    }\n",
              "</style>\n",
              "<table border=\"1\" class=\"dataframe\">\n",
              "  <thead>\n",
              "    <tr style=\"text-align: right;\">\n",
              "      <th></th>\n",
              "      <th>age</th>\n",
              "      <th>sex</th>\n",
              "      <th>cp</th>\n",
              "      <th>trtbps</th>\n",
              "      <th>chol</th>\n",
              "      <th>fbs</th>\n",
              "      <th>restecg</th>\n",
              "      <th>thalachh</th>\n",
              "      <th>exng</th>\n",
              "      <th>oldpeak</th>\n",
              "      <th>slp</th>\n",
              "      <th>caa</th>\n",
              "      <th>thall</th>\n",
              "      <th>output</th>\n",
              "    </tr>\n",
              "  </thead>\n",
              "  <tbody>\n",
              "    <tr>\n",
              "      <th>0</th>\n",
              "      <td>63</td>\n",
              "      <td>1</td>\n",
              "      <td>3</td>\n",
              "      <td>145</td>\n",
              "      <td>233</td>\n",
              "      <td>1</td>\n",
              "      <td>0</td>\n",
              "      <td>150</td>\n",
              "      <td>0</td>\n",
              "      <td>2.3</td>\n",
              "      <td>0</td>\n",
              "      <td>0</td>\n",
              "      <td>1</td>\n",
              "      <td>1</td>\n",
              "    </tr>\n",
              "    <tr>\n",
              "      <th>1</th>\n",
              "      <td>37</td>\n",
              "      <td>1</td>\n",
              "      <td>2</td>\n",
              "      <td>130</td>\n",
              "      <td>250</td>\n",
              "      <td>0</td>\n",
              "      <td>1</td>\n",
              "      <td>187</td>\n",
              "      <td>0</td>\n",
              "      <td>3.5</td>\n",
              "      <td>0</td>\n",
              "      <td>0</td>\n",
              "      <td>2</td>\n",
              "      <td>1</td>\n",
              "    </tr>\n",
              "    <tr>\n",
              "      <th>2</th>\n",
              "      <td>41</td>\n",
              "      <td>0</td>\n",
              "      <td>1</td>\n",
              "      <td>130</td>\n",
              "      <td>204</td>\n",
              "      <td>0</td>\n",
              "      <td>0</td>\n",
              "      <td>172</td>\n",
              "      <td>0</td>\n",
              "      <td>1.4</td>\n",
              "      <td>2</td>\n",
              "      <td>0</td>\n",
              "      <td>2</td>\n",
              "      <td>1</td>\n",
              "    </tr>\n",
              "    <tr>\n",
              "      <th>3</th>\n",
              "      <td>56</td>\n",
              "      <td>1</td>\n",
              "      <td>1</td>\n",
              "      <td>120</td>\n",
              "      <td>236</td>\n",
              "      <td>0</td>\n",
              "      <td>1</td>\n",
              "      <td>178</td>\n",
              "      <td>0</td>\n",
              "      <td>0.8</td>\n",
              "      <td>2</td>\n",
              "      <td>0</td>\n",
              "      <td>2</td>\n",
              "      <td>1</td>\n",
              "    </tr>\n",
              "    <tr>\n",
              "      <th>4</th>\n",
              "      <td>57</td>\n",
              "      <td>0</td>\n",
              "      <td>0</td>\n",
              "      <td>120</td>\n",
              "      <td>354</td>\n",
              "      <td>0</td>\n",
              "      <td>1</td>\n",
              "      <td>163</td>\n",
              "      <td>1</td>\n",
              "      <td>0.6</td>\n",
              "      <td>2</td>\n",
              "      <td>0</td>\n",
              "      <td>2</td>\n",
              "      <td>1</td>\n",
              "    </tr>\n",
              "  </tbody>\n",
              "</table>\n",
              "</div>"
            ],
            "text/plain": [
              "   age  sex  cp  trtbps  chol  fbs  ...  exng  oldpeak  slp  caa  thall  output\n",
              "0   63    1   3     145   233    1  ...     0      2.3    0    0      1       1\n",
              "1   37    1   2     130   250    0  ...     0      3.5    0    0      2       1\n",
              "2   41    0   1     130   204    0  ...     0      1.4    2    0      2       1\n",
              "3   56    1   1     120   236    0  ...     0      0.8    2    0      2       1\n",
              "4   57    0   0     120   354    0  ...     1      0.6    2    0      2       1\n",
              "\n",
              "[5 rows x 14 columns]"
            ]
          },
          "metadata": {
            "tags": []
          },
          "execution_count": 13
        }
      ]
    },
    {
      "cell_type": "code",
      "metadata": {
        "id": "1TPKRsqzY4NP"
      },
      "source": [
        "import ipywidgets as wideget\n",
        "from IPython.display import display"
      ],
      "execution_count": null,
      "outputs": []
    },
    {
      "cell_type": "code",
      "metadata": {
        "id": "dokbipYdpZSH"
      },
      "source": [
        ""
      ],
      "execution_count": null,
      "outputs": []
    },
    {
      "cell_type": "code",
      "metadata": {
        "id": "lE_O1W-rayfp"
      },
      "source": [
        "wig_col1 =wideget.Dropdown(\n",
        "    options=[col for col in df.columns.tolist()],\n",
        "    #description ='Plots co-relation',\n",
        "    disabled=False,\n",
        "    title='Plots',\n",
        "    layout=wideget.Layout(width='20%',height='40px'))\n",
        "wig_col2 =wideget.Dropdown(\n",
        "    options=[col for col in df.columns.tolist()],\n",
        "    #description ='Plots co-relation',\n",
        "    disabled=False,\n",
        "    layout=wideget.Layout(width='20%',height='40px'))\n"
      ],
      "execution_count": null,
      "outputs": []
    },
    {
      "cell_type": "code",
      "metadata": {
        "colab": {
          "base_uri": "https://localhost:8080/",
          "height": 504,
          "referenced_widgets": [
            "9168c5a6afc54823bcd63446707b2167",
            "fe5cd2794813469f987327daa96f6863",
            "89731924555d4ce2925c83e462088398",
            "fa47bc63dd9341b9933f8b8eb078d47c",
            "ba82927bc95f47aaa9f988b4ce044e55",
            "3867587ecf38410cb3d2425d02deabf9"
          ]
        },
        "id": "IZKSoUoic7qr",
        "outputId": "f4d9c7bb-4146-49ce-f33d-18b3aaf28763"
      },
      "source": [
        "display(wig_col1)\n",
        "display(wig_col2)\n",
        "sns.catplot(x=wig_col1.value,y=wig_col2.value,kind='boxen',data=df,height=5.25,aspect=16/8)"
      ],
      "execution_count": null,
      "outputs": [
        {
          "output_type": "display_data",
          "data": {
            "application/vnd.jupyter.widget-view+json": {
              "model_id": "9168c5a6afc54823bcd63446707b2167",
              "version_minor": 0,
              "version_major": 2
            },
            "text/plain": [
              "Dropdown(layout=Layout(height='40px', width='20%'), options=('age', 'sex', 'cp', 'trtbps', 'chol', 'fbs', 'res…"
            ]
          },
          "metadata": {
            "tags": []
          }
        },
        {
          "output_type": "display_data",
          "data": {
            "application/vnd.jupyter.widget-view+json": {
              "model_id": "fa47bc63dd9341b9933f8b8eb078d47c",
              "version_minor": 0,
              "version_major": 2
            },
            "text/plain": [
              "Dropdown(layout=Layout(height='40px', width='20%'), options=('age', 'sex', 'cp', 'trtbps', 'chol', 'fbs', 'res…"
            ]
          },
          "metadata": {
            "tags": []
          }
        },
        {
          "output_type": "execute_result",
          "data": {
            "text/plain": [
              "<seaborn.axisgrid.FacetGrid at 0x7f94484a4d90>"
            ]
          },
          "metadata": {
            "tags": []
          },
          "execution_count": 16
        },
        {
          "output_type": "display_data",
          "data": {
            "image/png": "[encoded data removed]",
            "text/plain": [
              "<Figure size 756x378 with 1 Axes>"
            ]
          },
          "metadata": {
            "tags": [],
            "needs_background": "light"
          }
        }
      ]
    },
    {
      "cell_type": "code",
      "metadata": {
        "colab": {
          "base_uri": "https://localhost:8080/",
          "height": 296
        },
        "id": "n7LyBUjaVjmj",
        "outputId": "410be7a8-1387-4a4d-aa1b-06cd3076e5e7"
      },
      "source": [
        "sns.scatterplot(x='age',y='output',data=df,hue=True)"
      ],
      "execution_count": null,
      "outputs": [
        {
          "output_type": "execute_result",
          "data": {
            "text/plain": [
              "<matplotlib.axes._subplots.AxesSubplot at 0x7f943e3376d0>"
            ]
          },
          "metadata": {
            "tags": []
          },
          "execution_count": 17
        },
        {
          "output_type": "display_data",
          "data": {
            "image/png": "[encoded data removed]",
            "text/plain": [
              "<Figure size 432x288 with 1 Axes>"
            ]
          },
          "metadata": {
            "tags": [],
            "needs_background": "light"
          }
        }
      ]
    },
    {
      "cell_type": "code",
      "metadata": {
        "colab": {
          "base_uri": "https://localhost:8080/",
          "height": 296
        },
        "id": "gXO6dqaagFii",
        "outputId": "ed0e82c1-f4f9-4c31-ea08-e7b95c9023e5"
      },
      "source": [
        "sns.scatterplot(x='trtbps',y='output',data=df,hue=True)"
      ],
      "execution_count": null,
      "outputs": [
        {
          "output_type": "execute_result",
          "data": {
            "text/plain": [
              "<matplotlib.axes._subplots.AxesSubplot at 0x7f943d029f90>"
            ]
          },
          "metadata": {
            "tags": []
          },
          "execution_count": 18
        },
        {
          "output_type": "display_data",
          "data": {
            "image/png": "[encoded data removed]",
            "text/plain": [
              "<Figure size 432x288 with 1 Axes>"
            ]
          },
          "metadata": {
            "tags": [],
            "needs_background": "light"
          }
        }
      ]
    },
    {
      "cell_type": "code",
      "metadata": {
        "colab": {
          "base_uri": "https://localhost:8080/",
          "height": 442
        },
        "id": "uTlfXuygWUZV",
        "outputId": "5331f42a-9ac4-4132-e52b-31c45469112d"
      },
      "source": [
        "plt.figure(figsize=(15,7))\n",
        "sns.barplot(x=df.age ,y=df.fbs)\n",
        "sns.set_style(\"darkgrid\")"
      ],
      "execution_count": null,
      "outputs": [
        {
          "output_type": "display_data",
          "data": {
            "image/png": "[encoded data removed]",
            "text/plain": [
              "<Figure size 1080x504 with 1 Axes>"
            ]
          },
          "metadata": {
            "tags": [],
            "needs_background": "light"
          }
        }
      ]
    },
    {
      "cell_type": "code",
      "metadata": {
        "colab": {
          "base_uri": "https://localhost:8080/"
        },
        "id": "TdFl_42kYnbK",
        "outputId": "f0d9f67f-e142-4f3c-b194-ce92c08cd795"
      },
      "source": [
        "for col in df.columns:\n",
        "  print(col,',', 'Unique :',len(df[col].unique()),df.groupby('output')[col].count())\n"
      ],
      "execution_count": null,
      "outputs": [
        {
          "output_type": "stream",
          "text": [
            "age , Unique : 41 output\n",
            "0    138\n",
            "1    165\n",
            "Name: age, dtype: int64\n",
            "sex , Unique : 2 output\n",
            "0    138\n",
            "1    165\n",
            "Name: sex, dtype: int64\n",
            "cp , Unique : 4 output\n",
            "0    138\n",
            "1    165\n",
            "Name: cp, dtype: int64\n",
            "trtbps , Unique : 49 output\n",
            "0    138\n",
            "1    165\n",
            "Name: trtbps, dtype: int64\n",
            "chol , Unique : 152 output\n",
            "0    138\n",
            "1    165\n",
            "Name: chol, dtype: int64\n",
            "fbs , Unique : 2 output\n",
            "0    138\n",
            "1    165\n",
            "Name: fbs, dtype: int64\n",
            "restecg , Unique : 3 output\n",
            "0    138\n",
            "1    165\n",
            "Name: restecg, dtype: int64\n",
            "thalachh , Unique : 91 output\n",
            "0    138\n",
            "1    165\n",
            "Name: thalachh, dtype: int64\n",
            "exng , Unique : 2 output\n",
            "0    138\n",
            "1    165\n",
            "Name: exng, dtype: int64\n",
            "oldpeak , Unique : 40 output\n",
            "0    138\n",
            "1    165\n",
            "Name: oldpeak, dtype: int64\n",
            "slp , Unique : 3 output\n",
            "0    138\n",
            "1    165\n",
            "Name: slp, dtype: int64\n",
            "caa , Unique : 5 output\n",
            "0    138\n",
            "1    165\n",
            "Name: caa, dtype: int64\n",
            "thall , Unique : 4 output\n",
            "0    138\n",
            "1    165\n",
            "Name: thall, dtype: int64\n",
            "output , Unique : 2 output\n",
            "0    138\n",
            "1    165\n",
            "Name: output, dtype: int64\n"
          ],
          "name": "stdout"
        }
      ]
    },
    {
      "cell_type": "code",
      "metadata": {
        "colab": {
          "base_uri": "https://localhost:8080/"
        },
        "id": "V43GDBsnyBgF",
        "outputId": "b43a1da1-4076-467d-bb10-a86016bf5a73"
      },
      "source": [
        "df['age'].min()"
      ],
      "execution_count": null,
      "outputs": [
        {
          "output_type": "execute_result",
          "data": {
            "text/plain": [
              "29"
            ]
          },
          "metadata": {
            "tags": []
          },
          "execution_count": 21
        }
      ]
    },
    {
      "cell_type": "code",
      "metadata": {
        "colab": {
          "base_uri": "https://localhost:8080/"
        },
        "id": "iOhqMgFnyErN",
        "outputId": "acb10351-fe3e-4fbb-a93f-3c25dc74f6db"
      },
      "source": [
        "df['age'].max()"
      ],
      "execution_count": null,
      "outputs": [
        {
          "output_type": "execute_result",
          "data": {
            "text/plain": [
              "77"
            ]
          },
          "metadata": {
            "tags": []
          },
          "execution_count": 22
        }
      ]
    },
    {
      "cell_type": "code",
      "metadata": {
        "id": "yqXCgtvj0nO6"
      },
      "source": [
        "num_features=[col for col in df.columns if col !=['output']]"
      ],
      "execution_count": null,
      "outputs": []
    },
    {
      "cell_type": "code",
      "metadata": {
        "colab": {
          "base_uri": "https://localhost:8080/"
        },
        "id": "rx_1fcAR1Hme",
        "outputId": "8597eb54-b0d7-434c-89f6-ee951f030ae1"
      },
      "source": [
        "list(enumerate(num_features))"
      ],
      "execution_count": null,
      "outputs": [
        {
          "output_type": "execute_result",
          "data": {
            "text/plain": [
              "[(0, 'age'),\n",
              " (1, 'sex'),\n",
              " (2, 'cp'),\n",
              " (3, 'trtbps'),\n",
              " (4, 'chol'),\n",
              " (5, 'fbs'),\n",
              " (6, 'restecg'),\n",
              " (7, 'thalachh'),\n",
              " (8, 'exng'),\n",
              " (9, 'oldpeak'),\n",
              " (10, 'slp'),\n",
              " (11, 'caa'),\n",
              " (12, 'thall'),\n",
              " (13, 'output')]"
            ]
          },
          "metadata": {
            "tags": []
          },
          "execution_count": 24
        }
      ]
    },
    {
      "cell_type": "code",
      "metadata": {
        "colab": {
          "base_uri": "https://localhost:8080/",
          "height": 1000
        },
        "id": "dqyU9SNLuWre",
        "outputId": "21b3154a-0b27-4307-fe0d-091a51f6f131"
      },
      "source": [
        "plt.figure(figsize=(20,40))\n",
        "for i in enumerate(num_features):\n",
        "  plt.subplot(7,2,i[0]+1)\n",
        "  sns.histplot(x=i[1],hue='output',data=df)\n",
        "  sns.set_style('whitegrid')\n"
      ],
      "execution_count": null,
      "outputs": [
        {
          "output_type": "display_data",
          "data": {
            "image/png": "[encoded data removed]",
            "text/plain": [
              "<Figure size 1440x2880 with 14 Axes>"
            ]
          },
          "metadata": {
            "tags": []
          }
        }
      ]
    },
    {
      "cell_type": "code",
      "metadata": {
        "colab": {
          "base_uri": "https://localhost:8080/",
          "height": 459
        },
        "id": "lFCSwiMGxNBP",
        "outputId": "9eadf2cb-8c87-4fcc-dc68-84784a94e318"
      },
      "source": [
        "plt.figure(figsize=(14,7))\n",
        "sns.countplot(x='age',hue='output',data=df)\n",
        "sns.set_style(\"whitegrid\")\n",
        "plt.plot()"
      ],
      "execution_count": null,
      "outputs": [
        {
          "output_type": "execute_result",
          "data": {
            "text/plain": [
              "[]"
            ]
          },
          "metadata": {
            "tags": []
          },
          "execution_count": 26
        },
        {
          "output_type": "display_data",
          "data": {
            "image/png": "[encoded data removed]",
            "text/plain": [
              "<Figure size 1008x504 with 1 Axes>"
            ]
          },
          "metadata": {
            "tags": []
          }
        }
      ]
    },
    {
      "cell_type": "code",
      "metadata": {
        "id": "jg7pVWNYyoo5"
      },
      "source": [
        "from sklearn.model_selection import train_test_split"
      ],
      "execution_count": null,
      "outputs": []
    },
    {
      "cell_type": "code",
      "metadata": {
        "id": "KoKRUbLN7-vp"
      },
      "source": [
        "X=df.iloc[:,:-1]\n",
        "y=df.iloc[:,-1]"
      ],
      "execution_count": null,
      "outputs": []
    },
    {
      "cell_type": "code",
      "metadata": {
        "colab": {
          "base_uri": "https://localhost:8080/",
          "height": 419
        },
        "id": "ZdbwNVk98ELI",
        "outputId": "6dc0f052-22d2-4724-ca4a-209154584c49"
      },
      "source": [
        "X"
      ],
      "execution_count": null,
      "outputs": [
        {
          "output_type": "execute_result",
          "data": {
            "text/html": [
              "<div>\n",
              "<style scoped>\n",
              "    .dataframe tbody tr th:only-of-type {\n",
              "        vertical-align: middle;\n",
              "    }\n",
              "\n",
              "    .dataframe tbody tr th {\n",
              "        vertical-align: top;\n",
              "    }\n",
              "\n",
              "    .dataframe thead th {\n",
              "        text-align: right;\n",
              "    }\n",
              "</style>\n",
              "<table border=\"1\" class=\"dataframe\">\n",
              "  <thead>\n",
              "    <tr style=\"text-align: right;\">\n",
              "      <th></th>\n",
              "      <th>age</th>\n",
              "      <th>sex</th>\n",
              "      <th>cp</th>\n",
              "      <th>trtbps</th>\n",
              "      <th>chol</th>\n",
              "      <th>fbs</th>\n",
              "      <th>restecg</th>\n",
              "      <th>thalachh</th>\n",
              "      <th>exng</th>\n",
              "      <th>oldpeak</th>\n",
              "      <th>slp</th>\n",
              "      <th>caa</th>\n",
              "      <th>thall</th>\n",
              "    </tr>\n",
              "  </thead>\n",
              "  <tbody>\n",
              "    <tr>\n",
              "      <th>0</th>\n",
              "      <td>63</td>\n",
              "      <td>1</td>\n",
              "      <td>3</td>\n",
              "      <td>145</td>\n",
              "      <td>233</td>\n",
              "      <td>1</td>\n",
              "      <td>0</td>\n",
              "      <td>150</td>\n",
              "      <td>0</td>\n",
              "      <td>2.3</td>\n",
              "      <td>0</td>\n",
              "      <td>0</td>\n",
              "      <td>1</td>\n",
              "    </tr>\n",
              "    <tr>\n",
              "      <th>1</th>\n",
              "      <td>37</td>\n",
              "      <td>1</td>\n",
              "      <td>2</td>\n",
              "      <td>130</td>\n",
              "      <td>250</td>\n",
              "      <td>0</td>\n",
              "      <td>1</td>\n",
              "      <td>187</td>\n",
              "      <td>0</td>\n",
              "      <td>3.5</td>\n",
              "      <td>0</td>\n",
              "      <td>0</td>\n",
              "      <td>2</td>\n",
              "    </tr>\n",
              "    <tr>\n",
              "      <th>2</th>\n",
              "      <td>41</td>\n",
              "      <td>0</td>\n",
              "      <td>1</td>\n",
              "      <td>130</td>\n",
              "      <td>204</td>\n",
              "      <td>0</td>\n",
              "      <td>0</td>\n",
              "      <td>172</td>\n",
              "      <td>0</td>\n",
              "      <td>1.4</td>\n",
              "      <td>2</td>\n",
              "      <td>0</td>\n",
              "      <td>2</td>\n",
              "    </tr>\n",
              "    <tr>\n",
              "      <th>3</th>\n",
              "      <td>56</td>\n",
              "      <td>1</td>\n",
              "      <td>1</td>\n",
              "      <td>120</td>\n",
              "      <td>236</td>\n",
              "      <td>0</td>\n",
              "      <td>1</td>\n",
              "      <td>178</td>\n",
              "      <td>0</td>\n",
              "      <td>0.8</td>\n",
              "      <td>2</td>\n",
              "      <td>0</td>\n",
              "      <td>2</td>\n",
              "    </tr>\n",
              "    <tr>\n",
              "      <th>4</th>\n",
              "      <td>57</td>\n",
              "      <td>0</td>\n",
              "      <td>0</td>\n",
              "      <td>120</td>\n",
              "      <td>354</td>\n",
              "      <td>0</td>\n",
              "      <td>1</td>\n",
              "      <td>163</td>\n",
              "      <td>1</td>\n",
              "      <td>0.6</td>\n",
              "      <td>2</td>\n",
              "      <td>0</td>\n",
              "      <td>2</td>\n",
              "    </tr>\n",
              "    <tr>\n",
              "      <th>...</th>\n",
              "      <td>...</td>\n",
              "      <td>...</td>\n",
              "      <td>...</td>\n",
              "      <td>...</td>\n",
              "      <td>...</td>\n",
              "      <td>...</td>\n",
              "      <td>...</td>\n",
              "      <td>...</td>\n",
              "      <td>...</td>\n",
              "      <td>...</td>\n",
              "      <td>...</td>\n",
              "      <td>...</td>\n",
              "      <td>...</td>\n",
              "    </tr>\n",
              "    <tr>\n",
              "      <th>298</th>\n",
              "      <td>57</td>\n",
              "      <td>0</td>\n",
              "      <td>0</td>\n",
              "      <td>140</td>\n",
              "      <td>241</td>\n",
              "      <td>0</td>\n",
              "      <td>1</td>\n",
              "      <td>123</td>\n",
              "      <td>1</td>\n",
              "      <td>0.2</td>\n",
              "      <td>1</td>\n",
              "      <td>0</td>\n",
              "      <td>3</td>\n",
              "    </tr>\n",
              "    <tr>\n",
              "      <th>299</th>\n",
              "      <td>45</td>\n",
              "      <td>1</td>\n",
              "      <td>3</td>\n",
              "      <td>110</td>\n",
              "      <td>264</td>\n",
              "      <td>0</td>\n",
              "      <td>1</td>\n",
              "      <td>132</td>\n",
              "      <td>0</td>\n",
              "      <td>1.2</td>\n",
              "      <td>1</td>\n",
              "      <td>0</td>\n",
              "      <td>3</td>\n",
              "    </tr>\n",
              "    <tr>\n",
              "      <th>300</th>\n",
              "      <td>68</td>\n",
              "      <td>1</td>\n",
              "      <td>0</td>\n",
              "      <td>144</td>\n",
              "      <td>193</td>\n",
              "      <td>1</td>\n",
              "      <td>1</td>\n",
              "      <td>141</td>\n",
              "      <td>0</td>\n",
              "      <td>3.4</td>\n",
              "      <td>1</td>\n",
              "      <td>2</td>\n",
              "      <td>3</td>\n",
              "    </tr>\n",
              "    <tr>\n",
              "      <th>301</th>\n",
              "      <td>57</td>\n",
              "      <td>1</td>\n",
              "      <td>0</td>\n",
              "      <td>130</td>\n",
              "      <td>131</td>\n",
              "      <td>0</td>\n",
              "      <td>1</td>\n",
              "      <td>115</td>\n",
              "      <td>1</td>\n",
              "      <td>1.2</td>\n",
              "      <td>1</td>\n",
              "      <td>1</td>\n",
              "      <td>3</td>\n",
              "    </tr>\n",
              "    <tr>\n",
              "      <th>302</th>\n",
              "      <td>57</td>\n",
              "      <td>0</td>\n",
              "      <td>1</td>\n",
              "      <td>130</td>\n",
              "      <td>236</td>\n",
              "      <td>0</td>\n",
              "      <td>0</td>\n",
              "      <td>174</td>\n",
              "      <td>0</td>\n",
              "      <td>0.0</td>\n",
              "      <td>1</td>\n",
              "      <td>1</td>\n",
              "      <td>2</td>\n",
              "    </tr>\n",
              "  </tbody>\n",
              "</table>\n",
              "<p>303 rows × 13 columns</p>\n",
              "</div>"
            ],
            "text/plain": [
              "     age  sex  cp  trtbps  chol  fbs  ...  thalachh  exng  oldpeak  slp  caa  thall\n",
              "0     63    1   3     145   233    1  ...       150     0      2.3    0    0      1\n",
              "1     37    1   2     130   250    0  ...       187     0      3.5    0    0      2\n",
              "2     41    0   1     130   204    0  ...       172     0      1.4    2    0      2\n",
              "3     56    1   1     120   236    0  ...       178     0      0.8    2    0      2\n",
              "4     57    0   0     120   354    0  ...       163     1      0.6    2    0      2\n",
              "..   ...  ...  ..     ...   ...  ...  ...       ...   ...      ...  ...  ...    ...\n",
              "298   57    0   0     140   241    0  ...       123     1      0.2    1    0      3\n",
              "299   45    1   3     110   264    0  ...       132     0      1.2    1    0      3\n",
              "300   68    1   0     144   193    1  ...       141     0      3.4    1    2      3\n",
              "301   57    1   0     130   131    0  ...       115     1      1.2    1    1      3\n",
              "302   57    0   1     130   236    0  ...       174     0      0.0    1    1      2\n",
              "\n",
              "[303 rows x 13 columns]"
            ]
          },
          "metadata": {
            "tags": []
          },
          "execution_count": 29
        }
      ]
    },
    {
      "cell_type": "code",
      "metadata": {
        "colab": {
          "base_uri": "https://localhost:8080/"
        },
        "id": "alXKIQ5Z8LrN",
        "outputId": "044934c2-f0cd-4b16-dcf8-9c69739a994e"
      },
      "source": [
        "y"
      ],
      "execution_count": null,
      "outputs": [
        {
          "output_type": "execute_result",
          "data": {
            "text/plain": [
              "0      1\n",
              "1      1\n",
              "2      1\n",
              "3      1\n",
              "4      1\n",
              "      ..\n",
              "298    0\n",
              "299    0\n",
              "300    0\n",
              "301    0\n",
              "302    0\n",
              "Name: output, Length: 303, dtype: int64"
            ]
          },
          "metadata": {
            "tags": []
          },
          "execution_count": 30
        }
      ]
    },
    {
      "cell_type": "code",
      "metadata": {
        "id": "aTWvjHqw8Nhg"
      },
      "source": [
        "X_train,X_test,y_train,y_test=train_test_split(X,y,test_size=0.3,random_state=3)"
      ],
      "execution_count": null,
      "outputs": []
    },
    {
      "cell_type": "code",
      "metadata": {
        "colab": {
          "base_uri": "https://localhost:8080/"
        },
        "id": "MxJ2QGo98gte",
        "outputId": "3f39b1d5-c327-4f3e-9473-5a38a511ebb4"
      },
      "source": [
        "X_train.shape"
      ],
      "execution_count": null,
      "outputs": [
        {
          "output_type": "execute_result",
          "data": {
            "text/plain": [
              "(212, 13)"
            ]
          },
          "metadata": {
            "tags": []
          },
          "execution_count": 32
        }
      ]
    },
    {
      "cell_type": "code",
      "metadata": {
        "id": "fje3EHCx8ilm"
      },
      "source": [
        "from sklearn.preprocessing import StandardScaler\n",
        "from sklearn.tree import  DecisionTreeClassifier\n",
        "from sklearn.svm import SVC\n",
        "from sklearn.linear_model import LogisticRegression\n",
        "from sklearn.ensemble import RandomForestClassifier\n",
        "from sklearn.neighbors import KNeighborsClassifier"
      ],
      "execution_count": null,
      "outputs": []
    },
    {
      "cell_type": "code",
      "metadata": {
        "id": "UNoJZzdF_uYW"
      },
      "source": [
        "from sklearn import metrics"
      ],
      "execution_count": null,
      "outputs": []
    },
    {
      "cell_type": "code",
      "metadata": {
        "id": "eE3nMDYM-iap"
      },
      "source": [
        "import warnings\n",
        "warnings.filterwarnings('ignore')"
      ],
      "execution_count": null,
      "outputs": []
    },
    {
      "cell_type": "markdown",
      "metadata": {
        "id": "ZKFVLVrt-WMD"
      },
      "source": [
        "# ***DecisionTreeClassifier***"
      ]
    },
    {
      "cell_type": "code",
      "metadata": {
        "colab": {
          "base_uri": "https://localhost:8080/"
        },
        "id": "giNRTgmY-GgA",
        "outputId": "bbd5b796-8294-4684-9934-e638079b030c"
      },
      "source": [
        "model_DTC=DecisionTreeClassifier()\n",
        "model_DTC.fit(X_train,y_train)"
      ],
      "execution_count": null,
      "outputs": [
        {
          "output_type": "execute_result",
          "data": {
            "text/plain": [
              "DecisionTreeClassifier(ccp_alpha=0.0, class_weight=None, criterion='gini',\n",
              "                       max_depth=None, max_features=None, max_leaf_nodes=None,\n",
              "                       min_impurity_decrease=0.0, min_impurity_split=None,\n",
              "                       min_samples_leaf=1, min_samples_split=2,\n",
              "                       min_weight_fraction_leaf=0.0, presort='deprecated',\n",
              "                       random_state=None, splitter='best')"
            ]
          },
          "metadata": {
            "tags": []
          },
          "execution_count": 36
        }
      ]
    },
    {
      "cell_type": "code",
      "metadata": {
        "id": "keMYKSKs_i-1"
      },
      "source": [
        "y_pred_DTC=model_DTC.predict(X_test)"
      ],
      "execution_count": null,
      "outputs": []
    },
    {
      "cell_type": "code",
      "metadata": {
        "colab": {
          "base_uri": "https://localhost:8080/"
        },
        "id": "-GfZkJlK_q6i",
        "outputId": "6b15d250-d76d-45e8-fcc9-ec18709bc20e"
      },
      "source": [
        "print('Accuracy_Score :',metrics.accuracy_score(y_test,y_pred_DTC))\n",
        "print('R^2 :',metrics.r2_score(y_test,y_pred_DTC))"
      ],
      "execution_count": null,
      "outputs": [
        {
          "output_type": "stream",
          "text": [
            "Accuracy_Score : 0.7362637362637363\n",
            "R^2 : -0.08440913604766642\n"
          ],
          "name": "stdout"
        }
      ]
    },
    {
      "cell_type": "code",
      "metadata": {
        "colab": {
          "base_uri": "https://localhost:8080/"
        },
        "id": "XIPKStZYA38I",
        "outputId": "069ddb1a-40d9-46fd-e2c5-34a8debe90bb"
      },
      "source": [
        "cm=metrics.confusion_matrix(y_test,y_pred_DTC)\n",
        "cm"
      ],
      "execution_count": null,
      "outputs": [
        {
          "output_type": "execute_result",
          "data": {
            "text/plain": [
              "array([[29,  9],\n",
              "       [15, 38]])"
            ]
          },
          "metadata": {
            "tags": []
          },
          "execution_count": 39
        }
      ]
    },
    {
      "cell_type": "code",
      "metadata": {
        "colab": {
          "base_uri": "https://localhost:8080/",
          "height": 337
        },
        "id": "4OQFA53BBRiz",
        "outputId": "fed552c5-9809-4bb3-8e78-c57c2a452816"
      },
      "source": [
        "plt.figure(figsize=(10,5))\n",
        "sns.heatmap(cm,cbar=True,square=True,fmt='.2f',annot=True,annot_kws={'size':10})"
      ],
      "execution_count": null,
      "outputs": [
        {
          "output_type": "execute_result",
          "data": {
            "text/plain": [
              "<matplotlib.axes._subplots.AxesSubplot at 0x7f943c3e3e90>"
            ]
          },
          "metadata": {
            "tags": []
          },
          "execution_count": 40
        },
        {
          "output_type": "display_data",
          "data": {
            "image/png": "[encoded data removed]",
            "text/plain": [
              "<Figure size 720x360 with 2 Axes>"
            ]
          },
          "metadata": {
            "tags": []
          }
        }
      ]
    },
    {
      "cell_type": "markdown",
      "metadata": {
        "id": "exv3H1peD8Na"
      },
      "source": [
        "# ***LOGISTIC_REGRESSION***"
      ]
    },
    {
      "cell_type": "code",
      "metadata": {
        "colab": {
          "base_uri": "https://localhost:8080/"
        },
        "id": "-NPHjzKzB7Cq",
        "outputId": "c79822ef-4d7d-434a-c1e8-2535f1759876"
      },
      "source": [
        "model_log=LogisticRegression()\n",
        "model_log.fit(X_train,y_train)"
      ],
      "execution_count": null,
      "outputs": [
        {
          "output_type": "execute_result",
          "data": {
            "text/plain": [
              "LogisticRegression(C=1.0, class_weight=None, dual=False, fit_intercept=True,\n",
              "                   intercept_scaling=1, l1_ratio=None, max_iter=100,\n",
              "                   multi_class='auto', n_jobs=None, penalty='l2',\n",
              "                   random_state=None, solver='lbfgs', tol=0.0001, verbose=0,\n",
              "                   warm_start=False)"
            ]
          },
          "metadata": {
            "tags": []
          },
          "execution_count": 41
        }
      ]
    },
    {
      "cell_type": "code",
      "metadata": {
        "id": "BLy9fbKqFC28"
      },
      "source": [
        "y_pred_Log=model_log.predict(X_test)"
      ],
      "execution_count": null,
      "outputs": []
    },
    {
      "cell_type": "code",
      "metadata": {
        "colab": {
          "base_uri": "https://localhost:8080/"
        },
        "id": "FYoXvP-yFM6w",
        "outputId": "64005af9-4b91-47e8-a060-5217adfd0564"
      },
      "source": [
        "print(\"Acuuracy_Score :\",metrics.accuracy_score(y_test,y_pred_Log))\n",
        "print(\"R^2 :\",metrics.r2_score(y_test,y_pred_Log))"
      ],
      "execution_count": null,
      "outputs": [
        {
          "output_type": "stream",
          "text": [
            "Acuuracy_Score : 0.8571428571428571\n",
            "R^2 : 0.4126117179741807\n"
          ],
          "name": "stdout"
        }
      ]
    },
    {
      "cell_type": "code",
      "metadata": {
        "colab": {
          "base_uri": "https://localhost:8080/"
        },
        "id": "pdEGy0dbFiM4",
        "outputId": "424970b2-f61c-4e83-f0d0-9060a4ff2b63"
      },
      "source": [
        "cm=metrics.confusion_matrix(y_test,y_pred_Log)\n",
        "cm"
      ],
      "execution_count": null,
      "outputs": [
        {
          "output_type": "execute_result",
          "data": {
            "text/plain": [
              "array([[27, 11],\n",
              "       [ 2, 51]])"
            ]
          },
          "metadata": {
            "tags": []
          },
          "execution_count": 44
        }
      ]
    },
    {
      "cell_type": "code",
      "metadata": {
        "colab": {
          "base_uri": "https://localhost:8080/",
          "height": 337
        },
        "id": "AzPZBjEHFwE6",
        "outputId": "8a8ae083-3c31-416f-c1f6-cca71f1bc9e1"
      },
      "source": [
        "plt.figure(figsize=(10,5))\n",
        "sns.heatmap(cm,cbar=True,square=True,fmt='.2f',annot=True,annot_kws={'size':10})"
      ],
      "execution_count": null,
      "outputs": [
        {
          "output_type": "execute_result",
          "data": {
            "text/plain": [
              "<matplotlib.axes._subplots.AxesSubplot at 0x7f943cf28f90>"
            ]
          },
          "metadata": {
            "tags": []
          },
          "execution_count": 45
        },
        {
          "output_type": "display_data",
          "data": {
            "image/png": "[encoded data removed]",
            "text/plain": [
              "<Figure size 720x360 with 2 Axes>"
            ]
          },
          "metadata": {
            "tags": []
          }
        }
      ]
    },
    {
      "cell_type": "markdown",
      "metadata": {
        "id": "T7AaBuhoGNKz"
      },
      "source": [
        "# ***SVM***\n",
        "\n",
        "\n",
        "\n"
      ]
    },
    {
      "cell_type": "code",
      "metadata": {
        "colab": {
          "base_uri": "https://localhost:8080/"
        },
        "id": "ROGqH36oGJ7d",
        "outputId": "a0cbd08f-e533-4a4a-cb0c-7c05bec03014"
      },
      "source": [
        "model_SVM=SVC()\n",
        "model_SVM.fit(X_train,y_train)"
      ],
      "execution_count": null,
      "outputs": [
        {
          "output_type": "execute_result",
          "data": {
            "text/plain": [
              "SVC(C=1.0, break_ties=False, cache_size=200, class_weight=None, coef0=0.0,\n",
              "    decision_function_shape='ovr', degree=3, gamma='scale', kernel='rbf',\n",
              "    max_iter=-1, probability=False, random_state=None, shrinking=True,\n",
              "    tol=0.001, verbose=False)"
            ]
          },
          "metadata": {
            "tags": []
          },
          "execution_count": 46
        }
      ]
    },
    {
      "cell_type": "code",
      "metadata": {
        "id": "IQE6mmegKfL5"
      },
      "source": [
        "y_pred_SVM=model_SVM.predict(X_test)"
      ],
      "execution_count": null,
      "outputs": []
    },
    {
      "cell_type": "code",
      "metadata": {
        "colab": {
          "base_uri": "https://localhost:8080/"
        },
        "id": "5D9PE9QcKwQx",
        "outputId": "f96d4a09-f671-46da-8fd3-b3f3d684cf58"
      },
      "source": [
        "print(\"Accuracy_Score :\",metrics.accuracy_score(y_test,y_pred_SVM))\n",
        "print(\"R^2 :\",metrics.r2_score(y_test,y_pred_SVM))"
      ],
      "execution_count": null,
      "outputs": [
        {
          "output_type": "stream",
          "text": [
            "Accuracy_Score : 0.7032967032967034\n",
            "R^2 : -0.21996027805362472\n"
          ],
          "name": "stdout"
        }
      ]
    },
    {
      "cell_type": "code",
      "metadata": {
        "colab": {
          "base_uri": "https://localhost:8080/"
        },
        "id": "Vfqa3EYGLs2q",
        "outputId": "143ea196-ee4a-4c71-f38b-d802b3efef4c"
      },
      "source": [
        "cm=metrics.confusion_matrix(y_test,y_pred_SVM)\n",
        "cm"
      ],
      "execution_count": null,
      "outputs": [
        {
          "output_type": "execute_result",
          "data": {
            "text/plain": [
              "array([[18, 20],\n",
              "       [ 7, 46]])"
            ]
          },
          "metadata": {
            "tags": []
          },
          "execution_count": 49
        }
      ]
    },
    {
      "cell_type": "code",
      "metadata": {
        "colab": {
          "base_uri": "https://localhost:8080/",
          "height": 337
        },
        "id": "u58Y7H4qMYhC",
        "outputId": "29f16ffd-6dfa-46d8-b1ba-d24529d6177f"
      },
      "source": [
        "plt.figure(figsize=(10,5))\n",
        "sns.heatmap(cm,cbar=True,square=True,fmt='.2f',annot=True,annot_kws={'size':10})"
      ],
      "execution_count": null,
      "outputs": [
        {
          "output_type": "execute_result",
          "data": {
            "text/plain": [
              "<matplotlib.axes._subplots.AxesSubplot at 0x7f943cbba0d0>"
            ]
          },
          "metadata": {
            "tags": []
          },
          "execution_count": 50
        },
        {
          "output_type": "display_data",
          "data": {
            "image/png": "[encoded data removed]",
            "text/plain": [
              "<Figure size 720x360 with 2 Axes>"
            ]
          },
          "metadata": {
            "tags": []
          }
        }
      ]
    },
    {
      "cell_type": "markdown",
      "metadata": {
        "id": "xApKmRP1M5f6"
      },
      "source": [
        "# ***KNN***"
      ]
    },
    {
      "cell_type": "code",
      "metadata": {
        "colab": {
          "base_uri": "https://localhost:8080/"
        },
        "id": "RX0GyOgLMXye",
        "outputId": "bccef91e-22e8-4341-c544-64005ee1e3f4"
      },
      "source": [
        "model_knn=KNeighborsClassifier(n_neighbors=5)\n",
        "model_knn.fit(X_train,y_train)"
      ],
      "execution_count": null,
      "outputs": [
        {
          "output_type": "execute_result",
          "data": {
            "text/plain": [
              "KNeighborsClassifier(algorithm='auto', leaf_size=30, metric='minkowski',\n",
              "                     metric_params=None, n_jobs=None, n_neighbors=5, p=2,\n",
              "                     weights='uniform')"
            ]
          },
          "metadata": {
            "tags": []
          },
          "execution_count": 51
        }
      ]
    },
    {
      "cell_type": "code",
      "metadata": {
        "id": "HkddERTeNMRl"
      },
      "source": [
        "y_pred_knn=model_knn.predict(X_test)"
      ],
      "execution_count": null,
      "outputs": []
    },
    {
      "cell_type": "code",
      "metadata": {
        "colab": {
          "base_uri": "https://localhost:8080/"
        },
        "id": "nldgQV__Nv5a",
        "outputId": "633ddb25-21cf-4485-9fbb-cde110801804"
      },
      "source": [
        "print(\"Accuracy_Score :\",metrics.accuracy_score(y_test,y_pred_knn))\n",
        "print(\"R^2 :\",metrics.r2_score(y_test,y_pred_knn))"
      ],
      "execution_count": null,
      "outputs": [
        {
          "output_type": "stream",
          "text": [
            "Accuracy_Score : 0.6483516483516484\n",
            "R^2 : -0.44587884806355516\n"
          ],
          "name": "stdout"
        }
      ]
    },
    {
      "cell_type": "code",
      "metadata": {
        "colab": {
          "base_uri": "https://localhost:8080/"
        },
        "id": "3dVXQz6FP-yP",
        "outputId": "7f5825d7-e963-4b04-84b5-46a2ac61cf95"
      },
      "source": [
        "cm=metrics.confusion_matrix(y_test,y_pred_knn)\n",
        "cm"
      ],
      "execution_count": null,
      "outputs": [
        {
          "output_type": "execute_result",
          "data": {
            "text/plain": [
              "array([[26, 12],\n",
              "       [20, 33]])"
            ]
          },
          "metadata": {
            "tags": []
          },
          "execution_count": 54
        }
      ]
    },
    {
      "cell_type": "code",
      "metadata": {
        "colab": {
          "base_uri": "https://localhost:8080/",
          "height": 337
        },
        "id": "g8eRBlviQH5r",
        "outputId": "0ae06905-636b-4ae9-d5df-8f3711e08d69"
      },
      "source": [
        "plt.figure(figsize=(10,5))\n",
        "sns.heatmap(cm,cbar=True,square=True,fmt='.2f',annot=True,annot_kws={'size':10})"
      ],
      "execution_count": null,
      "outputs": [
        {
          "output_type": "execute_result",
          "data": {
            "text/plain": [
              "<matplotlib.axes._subplots.AxesSubplot at 0x7f943cab3090>"
            ]
          },
          "metadata": {
            "tags": []
          },
          "execution_count": 55
        },
        {
          "output_type": "display_data",
          "data": {
            "image/png": "[encoded data removed]",
            "text/plain": [
              "<Figure size 720x360 with 2 Axes>"
            ]
          },
          "metadata": {
            "tags": []
          }
        }
      ]
    },
    {
      "cell_type": "code",
      "metadata": {
        "id": "4naHJbAiOEs1"
      },
      "source": [
        "from sklearn.preprocessing import StandardScaler\n",
        "sc=StandardScaler()\n",
        "X_train_knn=sc.fit_transform(X_train)\n",
        "X_test_knn=sc.fit_transform(X_test)"
      ],
      "execution_count": null,
      "outputs": []
    },
    {
      "cell_type": "code",
      "metadata": {
        "colab": {
          "base_uri": "https://localhost:8080/"
        },
        "id": "8ZZEw7kPOfgk",
        "outputId": "33d6eb66-d04e-4a4b-c58f-339f25c5990d"
      },
      "source": [
        "model_KNN=KNeighborsClassifier(n_neighbors=10)\n",
        "model_KNN.fit(X_train_knn,y_train)"
      ],
      "execution_count": null,
      "outputs": [
        {
          "output_type": "execute_result",
          "data": {
            "text/plain": [
              "KNeighborsClassifier(algorithm='auto', leaf_size=30, metric='minkowski',\n",
              "                     metric_params=None, n_jobs=None, n_neighbors=10, p=2,\n",
              "                     weights='uniform')"
            ]
          },
          "metadata": {
            "tags": []
          },
          "execution_count": 57
        }
      ]
    },
    {
      "cell_type": "code",
      "metadata": {
        "id": "b7SmfCOdOrvF"
      },
      "source": [
        "y_pred_KNN=model_KNN.predict(X_test)"
      ],
      "execution_count": null,
      "outputs": []
    },
    {
      "cell_type": "code",
      "metadata": {
        "colab": {
          "base_uri": "https://localhost:8080/"
        },
        "id": "5Xu-EhQyO5hA",
        "outputId": "cee7c0bc-5c3c-487d-bed7-d8eb6c5858e6"
      },
      "source": [
        "print(\"Accuracy_Score :\",metrics.accuracy_score(y_test,y_pred_KNN))\n",
        "print(\"R^2 :\",metrics.r2_score(y_test,y_pred_KNN))"
      ],
      "execution_count": null,
      "outputs": [
        {
          "output_type": "stream",
          "text": [
            "Accuracy_Score : 0.5824175824175825\n",
            "R^2 : -0.7169811320754718\n"
          ],
          "name": "stdout"
        }
      ]
    },
    {
      "cell_type": "code",
      "metadata": {
        "colab": {
          "base_uri": "https://localhost:8080/"
        },
        "id": "YxlnS-msQXSj",
        "outputId": "4e04e39c-534d-4cfd-fb39-353dc2931de6"
      },
      "source": [
        "cm=metrics.confusion_matrix(y_test,y_pred_KNN)\n",
        "cm"
      ],
      "execution_count": null,
      "outputs": [
        {
          "output_type": "execute_result",
          "data": {
            "text/plain": [
              "array([[31,  7],\n",
              "       [31, 22]])"
            ]
          },
          "metadata": {
            "tags": []
          },
          "execution_count": 60
        }
      ]
    },
    {
      "cell_type": "code",
      "metadata": {
        "colab": {
          "base_uri": "https://localhost:8080/",
          "height": 337
        },
        "id": "iEHs_52TPFyN",
        "outputId": "0f467dc0-b18b-4a20-a738-c2dad936424e"
      },
      "source": [
        "plt.figure(figsize=(10,5))\n",
        "sns.heatmap(cm,cbar=True,square=True,fmt='.2f',annot=True,annot_kws={'size':10})"
      ],
      "execution_count": null,
      "outputs": [
        {
          "output_type": "execute_result",
          "data": {
            "text/plain": [
              "<matplotlib.axes._subplots.AxesSubplot at 0x7f943c5b32d0>"
            ]
          },
          "metadata": {
            "tags": []
          },
          "execution_count": 61
        },
        {
          "output_type": "display_data",
          "data": {
            "image/png": "[encoded data removed]",
            "text/plain": [
              "<Figure size 720x360 with 2 Axes>"
            ]
          },
          "metadata": {
            "tags": []
          }
        }
      ]
    },
    {
      "cell_type": "markdown",
      "metadata": {
        "id": "iS1a2JhDQeq2"
      },
      "source": [
        "# ***RANDOM_FOREST_CLASSIFIER***"
      ]
    },
    {
      "cell_type": "code",
      "metadata": {
        "id": "GyCzflSQQwNT"
      },
      "source": [
        "model_RFC=RandomForestClassifier()"
      ],
      "execution_count": null,
      "outputs": []
    },
    {
      "cell_type": "code",
      "metadata": {
        "colab": {
          "base_uri": "https://localhost:8080/"
        },
        "id": "Zb4nGm14Q0cx",
        "outputId": "4c19d076-f7f5-468d-b9e3-3553a58b6129"
      },
      "source": [
        "model_RFC.fit(X_train,y_train)\n"
      ],
      "execution_count": null,
      "outputs": [
        {
          "output_type": "execute_result",
          "data": {
            "text/plain": [
              "RandomForestClassifier(bootstrap=True, ccp_alpha=0.0, class_weight=None,\n",
              "                       criterion='gini', max_depth=None, max_features='auto',\n",
              "                       max_leaf_nodes=None, max_samples=None,\n",
              "                       min_impurity_decrease=0.0, min_impurity_split=None,\n",
              "                       min_samples_leaf=1, min_samples_split=2,\n",
              "                       min_weight_fraction_leaf=0.0, n_estimators=100,\n",
              "                       n_jobs=None, oob_score=False, random_state=None,\n",
              "                       verbose=0, warm_start=False)"
            ]
          },
          "metadata": {
            "tags": []
          },
          "execution_count": 63
        }
      ]
    },
    {
      "cell_type": "code",
      "metadata": {
        "id": "UfFvu0b8Q91F"
      },
      "source": [
        "y_pred_RFC=model_RFC.predict(X_test)"
      ],
      "execution_count": null,
      "outputs": []
    },
    {
      "cell_type": "code",
      "metadata": {
        "colab": {
          "base_uri": "https://localhost:8080/"
        },
        "id": "-xqrzqzLRKy4",
        "outputId": "001a4a76-3300-476f-e91b-1cc641d29310"
      },
      "source": [
        "print(\"Accuracy_Score :\",metrics.accuracy_score(y_test,y_pred_RFC))\n",
        "print(\"R^2 :\",metrics.r2_score(y_test,y_pred_RFC))"
      ],
      "execution_count": null,
      "outputs": [
        {
          "output_type": "stream",
          "text": [
            "Accuracy_Score : 0.8681318681318682\n",
            "R^2 : 0.4577954319761668\n"
          ],
          "name": "stdout"
        }
      ]
    },
    {
      "cell_type": "code",
      "metadata": {
        "colab": {
          "base_uri": "https://localhost:8080/",
          "height": 341
        },
        "id": "VT1qASEsSE7N",
        "outputId": "2df38634-e878-45e5-eb3a-097f7c5c8723"
      },
      "source": [
        "cm=metrics.confusion_matrix(y_test,y_pred_RFC)\n",
        "plt.figure(figsize=(10,5))\n",
        "sns.heatmap(cm,cbar=True,square=True,fmt='.2f',annot=True,annot_kws={'size':10})"
      ],
      "execution_count": null,
      "outputs": [
        {
          "output_type": "execute_result",
          "data": {
            "text/plain": [
              "<matplotlib.axes._subplots.AxesSubplot at 0x7f9437f99ad0>"
            ]
          },
          "metadata": {
            "tags": []
          },
          "execution_count": 66
        },
        {
          "output_type": "display_data",
          "data": {
            "image/png": "[encoded data removed]",
            "text/plain": [
              "<Figure size 720x360 with 2 Axes>"
            ]
          },
          "metadata": {
            "tags": []
          }
        }
      ]
    },
    {
      "cell_type": "markdown",
      "metadata": {
        "id": "cbtCVvLvTYX3"
      },
      "source": [
        "# **PIPELINE**"
      ]
    },
    {
      "cell_type": "code",
      "metadata": {
        "id": "mnn7MzUnSLam"
      },
      "source": [
        "from sklearn.pipeline import Pipeline"
      ],
      "execution_count": null,
      "outputs": []
    },
    {
      "cell_type": "code",
      "metadata": {
        "id": "vUAozI4BSeYE"
      },
      "source": [
        "from sklearn.ensemble import AdaBoostClassifier\n",
        "from sklearn.preprocessing import MinMaxScaler\n",
        "from sklearn.decomposition import PCA"
      ],
      "execution_count": null,
      "outputs": []
    },
    {
      "cell_type": "code",
      "metadata": {
        "id": "yW7suX_ZSwMo"
      },
      "source": [
        "pipe_LogReg = Pipeline([('scaler',MinMaxScaler()),\n",
        "                        ('pca1',PCA()),\n",
        "                        ('LogisticRegression',LogisticRegression(C=2))])\n",
        "\n",
        "pipe_knn = Pipeline([('scaler',MinMaxScaler()),\n",
        "                     ('pca1',PCA()),\n",
        "                    ('KNeighborsClassifier',KNeighborsClassifier())])\n",
        "\n",
        "pipe_Svm = Pipeline([('scaler',MinMaxScaler()),\n",
        "                     ('pca1',PCA()),\n",
        "                    ('SVC',SVC())])\n",
        "\n",
        "pipe_RForest = Pipeline([('scaler',MinMaxScaler()),\n",
        "                    ('pca1',PCA()),     \n",
        "                   ('RandomForestClassifier',RandomForestClassifier())])\n",
        "\n",
        "\n",
        "pipe_Ada = Pipeline([('scaler',MinMaxScaler()),\n",
        "                     ('pca1',PCA()),\n",
        "                  ('AdaBoostClassifier',AdaBoostClassifier())])\n",
        "\n",
        "pipe_Ada_RF = Pipeline([('scaler',MinMaxScaler()),\n",
        "                     ('pca1',PCA()),\n",
        "                  ('AdaBoostClassifier_rf',AdaBoostClassifier(base_estimator=RandomForestClassifier(n_estimators=100),learning_rate=.1,algorithm='SAMME.R'))])"
      ],
      "execution_count": null,
      "outputs": []
    },
    {
      "cell_type": "code",
      "metadata": {
        "id": "ryV-VEupSz_y"
      },
      "source": [
        "pipelines1 = [pipe_LogReg ,pipe_knn,pipe_Svm,pipe_RForest,pipe_Ada,pipe_Ada_RF]"
      ],
      "execution_count": null,
      "outputs": []
    },
    {
      "cell_type": "code",
      "metadata": {
        "id": "FZOITcyJSzmU"
      },
      "source": [
        "for pipe in pipelines1:\n",
        "    pipe.fit(X_train,y_train)"
      ],
      "execution_count": null,
      "outputs": []
    },
    {
      "cell_type": "code",
      "metadata": {
        "id": "wrK1KiIFTJsh"
      },
      "source": [
        "from sklearn.metrics import accuracy_score,confusion_matrix,classification_report"
      ],
      "execution_count": null,
      "outputs": []
    },
    {
      "cell_type": "code",
      "metadata": {
        "colab": {
          "base_uri": "https://localhost:8080/"
        },
        "id": "j5om6nn9S-2i",
        "outputId": "c67999b3-65ff-4aa8-a210-05f27f9a1f4c"
      },
      "source": [
        "model_name1 =[]\n",
        "scores1=[]\n",
        "\n",
        "for i,model in enumerate(pipelines1):\n",
        "    pred = model.predict(X_test)\n",
        "    score = accuracy_score(y_test,pred)\n",
        "    model_name1.append(model.steps[2][0])\n",
        "    scores1.append(score)\n",
        "    print(model.steps[2][0].upper(),score)\n",
        "    print('\\n')"
      ],
      "execution_count": null,
      "outputs": [
        {
          "output_type": "stream",
          "text": [
            "LOGISTICREGRESSION 0.8351648351648352\n",
            "\n",
            "\n",
            "KNEIGHBORSCLASSIFIER 0.8021978021978022\n",
            "\n",
            "\n",
            "SVC 0.8571428571428571\n",
            "\n",
            "\n",
            "RANDOMFORESTCLASSIFIER 0.8241758241758241\n",
            "\n",
            "\n",
            "ADABOOSTCLASSIFIER 0.8241758241758241\n",
            "\n",
            "\n",
            "ADABOOSTCLASSIFIER_RF 0.8461538461538461\n",
            "\n",
            "\n"
          ],
          "name": "stdout"
        }
      ]
    },
    {
      "cell_type": "code",
      "metadata": {
        "id": "1uGqzPfuTCKl"
      },
      "source": [
        ""
      ],
      "execution_count": null,
      "outputs": []
    }
  ]
}